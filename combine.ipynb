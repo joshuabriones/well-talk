{
 "cells": [
  {
   "cell_type": "code",
   "execution_count": 9,
   "metadata": {},
   "outputs": [
    {
     "name": "stdout",
     "output_type": "stream",
     "text": [
      "Combined JSX files have been written to combined_jsx_files.txt\n"
     ]
    }
   ],
   "source": [
    "import os\n",
    "\n",
    "# Define the directory to search for JSX files and the output file name\n",
    "directory = 'app'\n",
    "output_file = 'combined_jsx_files.txt'\n",
    "\n",
    "# Initialize an empty list to store the contents of the JSX files\n",
    "combined_content = []\n",
    "\n",
    "# Walk through the directory and its subdirectories\n",
    "for root, dirs, files in os.walk(directory):\n",
    "    for file in files:\n",
    "        if file.endswith('.jsx'):\n",
    "            file_path = os.path.join(root, file)\n",
    "            with open(file_path, 'r', encoding='utf-8') as f:\n",
    "                # Read the content of the JSX file\n",
    "                content = f.read()\n",
    "                # Add a header with the file name and enclose content with backticks\n",
    "                combined_content.append(f'// File: {file_path}\\n```\\n{content}\\n```\\n')\n",
    "\n",
    "# Write the combined content to the output file\n",
    "with open(output_file, 'w', encoding='utf-8') as f:\n",
    "    f.write('\\n'.join(combined_content))\n",
    "\n",
    "print(f\"Combined JSX files have been written to {output_file}\")\n"
   ]
  },
  {
   "cell_type": "code",
   "execution_count": null,
   "metadata": {},
   "outputs": [],
   "source": []
  }
 ],
 "metadata": {
  "kernelspec": {
   "display_name": "Python 3",
   "language": "python",
   "name": "python3"
  },
  "language_info": {
   "codemirror_mode": {
    "name": "ipython",
    "version": 3
   },
   "file_extension": ".py",
   "mimetype": "text/x-python",
   "name": "python",
   "nbconvert_exporter": "python",
   "pygments_lexer": "ipython3",
   "version": "3.11.5"
  }
 },
 "nbformat": 4,
 "nbformat_minor": 2
}
